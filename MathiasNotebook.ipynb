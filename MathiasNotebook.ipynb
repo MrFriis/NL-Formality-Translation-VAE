{
 "cells": [
  {
   "cell_type": "code",
   "execution_count": 1,
   "metadata": {},
   "outputs": [],
   "source": [
    "import pandas as pd\n",
    "\n",
    "import os\n",
    "import pickle as pkl\n",
    "from urllib.request import urlretrieve\n",
    "\n",
    "import matplotlib.pyplot as plt\n",
    "\n",
    "import numpy as np\n",
    "import torch\n",
    "from torch.utils.data import Dataset\n",
    "from tqdm import tqdm\n",
    "\n",
    "from IPython.display import Image, display, clear_output\n",
    "\n",
    "import pandas as pd\n",
    "import sentencepiece as spm"
   ]
  },
  {
   "cell_type": "markdown",
   "metadata": {},
   "source": [
    "# Load data"
   ]
  },
  {
   "cell_type": "code",
   "execution_count": 2,
   "metadata": {},
   "outputs": [],
   "source": [
    "\n",
    "train_formal_file = 'GYAFC_Corpus/Family_Relationships/train/formal'\n",
    "train_informal_file = 'GYAFC_Corpus/Family_Relationships/train/informal'"
   ]
  },
  {
   "cell_type": "code",
   "execution_count": 3,
   "metadata": {},
   "outputs": [],
   "source": [
    "with open(train_formal_file) as f:\n",
    "    formal = [line.rstrip() for line in f]\n",
    "    \n",
    "with open(train_informal_file) as f:\n",
    "    informal = [line.rstrip() for line in f]"
   ]
  },
  {
   "cell_type": "code",
   "execution_count": 4,
   "metadata": {},
   "outputs": [
    {
     "data": {
      "text/html": [
       "<div>\n",
       "<style scoped>\n",
       "    .dataframe tbody tr th:only-of-type {\n",
       "        vertical-align: middle;\n",
       "    }\n",
       "\n",
       "    .dataframe tbody tr th {\n",
       "        vertical-align: top;\n",
       "    }\n",
       "\n",
       "    .dataframe thead th {\n",
       "        text-align: right;\n",
       "    }\n",
       "</style>\n",
       "<table border=\"1\" class=\"dataframe\">\n",
       "  <thead>\n",
       "    <tr style=\"text-align: right;\">\n",
       "      <th></th>\n",
       "      <th>Formal</th>\n",
       "      <th>Informal</th>\n",
       "    </tr>\n",
       "  </thead>\n",
       "  <tbody>\n",
       "    <tr>\n",
       "      <td>0</td>\n",
       "      <td>I prefer to let the guy ask me.</td>\n",
       "      <td>Sure, it's ok, but I always have let the guy a...</td>\n",
       "    </tr>\n",
       "    <tr>\n",
       "      <td>1</td>\n",
       "      <td>I suffer through verbal abuse from my wife.</td>\n",
       "      <td>Hmmm, I'm a guy suffering from verbal abuse fr...</td>\n",
       "    </tr>\n",
       "    <tr>\n",
       "      <td>2</td>\n",
       "      <td>You will have more friends than you want.</td>\n",
       "      <td>You will have more friends that you want... ;)</td>\n",
       "    </tr>\n",
       "    <tr>\n",
       "      <td>3</td>\n",
       "      <td>It's nice that you get to see pictures of who ...</td>\n",
       "      <td>It's nice, you get to see pictures of who you ...</td>\n",
       "    </tr>\n",
       "    <tr>\n",
       "      <td>4</td>\n",
       "      <td>I need to know what to do.</td>\n",
       "      <td>I NEED TO KNOW WHAT 2 DO</td>\n",
       "    </tr>\n",
       "    <tr>\n",
       "      <td>...</td>\n",
       "      <td>...</td>\n",
       "      <td>...</td>\n",
       "    </tr>\n",
       "    <tr>\n",
       "      <td>51962</td>\n",
       "      <td>Of course, it depends on what type of relation...</td>\n",
       "      <td>of corse it depends on what relation u r looki...</td>\n",
       "    </tr>\n",
       "    <tr>\n",
       "      <td>51963</td>\n",
       "      <td>Wear a sign that say \"Hi!\"</td>\n",
       "      <td>Wear a sign that says Hi!</td>\n",
       "    </tr>\n",
       "    <tr>\n",
       "      <td>51964</td>\n",
       "      <td>I do not like when guys play games with me.</td>\n",
       "      <td>I don't believe in playing games, I hate when ...</td>\n",
       "    </tr>\n",
       "    <tr>\n",
       "      <td>51965</td>\n",
       "      <td>How old are you?</td>\n",
       "      <td>(or w/e)   p.s gurl how old r u ?</td>\n",
       "    </tr>\n",
       "    <tr>\n",
       "      <td>51966</td>\n",
       "      <td>If you watch her, you might be able to learn w...</td>\n",
       "      <td>Try to watch her to see what kind of things sh...</td>\n",
       "    </tr>\n",
       "  </tbody>\n",
       "</table>\n",
       "<p>51967 rows × 2 columns</p>\n",
       "</div>"
      ],
      "text/plain": [
       "                                                  Formal  \\\n",
       "0                        I prefer to let the guy ask me.   \n",
       "1            I suffer through verbal abuse from my wife.   \n",
       "2              You will have more friends than you want.   \n",
       "3      It's nice that you get to see pictures of who ...   \n",
       "4                             I need to know what to do.   \n",
       "...                                                  ...   \n",
       "51962  Of course, it depends on what type of relation...   \n",
       "51963                         Wear a sign that say \"Hi!\"   \n",
       "51964        I do not like when guys play games with me.   \n",
       "51965                                   How old are you?   \n",
       "51966  If you watch her, you might be able to learn w...   \n",
       "\n",
       "                                                Informal  \n",
       "0      Sure, it's ok, but I always have let the guy a...  \n",
       "1      Hmmm, I'm a guy suffering from verbal abuse fr...  \n",
       "2         You will have more friends that you want... ;)  \n",
       "3      It's nice, you get to see pictures of who you ...  \n",
       "4                               I NEED TO KNOW WHAT 2 DO  \n",
       "...                                                  ...  \n",
       "51962  of corse it depends on what relation u r looki...  \n",
       "51963                          Wear a sign that says Hi!  \n",
       "51964  I don't believe in playing games, I hate when ...  \n",
       "51965                  (or w/e)   p.s gurl how old r u ?  \n",
       "51966  Try to watch her to see what kind of things sh...  \n",
       "\n",
       "[51967 rows x 2 columns]"
      ]
     },
     "execution_count": 4,
     "metadata": {},
     "output_type": "execute_result"
    }
   ],
   "source": [
    "train_df = pd.DataFrame({'Formal': formal, 'Informal': informal})\n",
    "train_df"
   ]
  },
  {
   "cell_type": "code",
   "execution_count": 5,
   "metadata": {},
   "outputs": [
    {
     "name": "stdout",
     "output_type": "stream",
     "text": [
      "Formal: I hope that helps, and best of luck because you are always the most important person in your life!\n",
      "Informal: Hope that helps, and good luck because you are always the most important person first in your life!!!\n",
      "\n",
      "Formal: Hint at it first but if he does not understand then tell him clearly.\n",
      "Informal: hint at it then if they dont get it just come out and tell them\n",
      "\n",
      "Formal: Before you assume that she is cheating, do some investigation.\n",
      "Informal: YOU NEED TO DO SOME INVESTIGATING BEFORE YOU ASSUME THAT SHE IS CHEATING.\n",
      "\n",
      "Formal: Perhaps what you desire most is what you do not have.\n",
      "Informal: I think you might just love what your not getting.\n",
      "\n",
      "Formal: I am a girl, I am in this situation.\n",
      "Informal: i'm a girl i'm in this situation\n",
      "\n",
      "Formal: Does he truly like me, or, does he like to flirt?\n",
      "Informal: Does he like me or does he just like flirt?\n",
      "\n",
      "Formal: You must admit that, after all, a girl needs to eat.\n",
      "Informal: After all, a girl's got to eat.\n",
      "\n",
      "Formal: You should spend a lot of time with him.\n",
      "Informal: Spend lots of time with him.\n",
      "\n",
      "Formal: No, that is not the right way.\n",
      "Informal: No man, that's not the way!\n",
      "\n",
      "Formal: It feels as though I am ignored when the new girl decides to hang out with our group.\n",
      "Informal: when the newest girl in our group is around im jus pushed aside n ignored.\n",
      "\n"
     ]
    }
   ],
   "source": [
    "for _, row in train_df.sample(n=10).iterrows():\n",
    "    print(f\"Formal: {row.Formal}\\nInformal: {row.Informal}\\n\")"
   ]
  },
  {
   "cell_type": "markdown",
   "metadata": {},
   "source": [
    "# Pre-process text"
   ]
  },
  {
   "cell_type": "code",
   "execution_count": 6,
   "metadata": {},
   "outputs": [
    {
     "name": "stdout",
     "output_type": "stream",
     "text": [
      "/home/mathias/Dropbox/Uni/Deeplearning/Project\n",
      "/home/mathias/Dropbox/Uni/Deeplearning/Project/GYAFC_Corpus/Family_Relationships/train/informal\n"
     ]
    },
    {
     "data": {
      "text/plain": [
       "True"
      ]
     },
     "execution_count": 6,
     "metadata": {},
     "output_type": "execute_result"
    }
   ],
   "source": [
    "\n",
    "root = os.getcwd()\n",
    "informalPath = os.path.join(root,'GYAFC_Corpus','Family_Relationships','train','informal')\n",
    "formalPath = os.path.join(root,'GYAFC_Corpus','Family_Relationships','train','formal')\n",
    "print(root)\n",
    "print(informalPath)\n",
    "informalTrain = pd.read_csv(informalPath,sep = '\\n', header = None)\n",
    "informalTrain.head()\n",
    "\n",
    "spm.SentencePieceTrainer.train('--input=' + informalPath + ' --model_prefix=m --vocab_size=10000 --pad_id=0 --unk_id=1 --bos_id=2 --eos_id=3 --pad_piece=[PAD] --unk_piece=[UNK] --bos_piece=[BOS] --eos_piece=[EOS], --normalization_rule_name=nfkc_cf')\n",
    "sp = spm.SentencePieceProcessor()\n",
    "sp.Load('m.model')"
   ]
  },
  {
   "cell_type": "code",
   "execution_count": 7,
   "metadata": {},
   "outputs": [
    {
     "name": "stdout",
     "output_type": "stream",
     "text": [
      "bos= 2\n",
      "eos= 3\n",
      "unk= 1\n",
      "pad= 0\n"
     ]
    }
   ],
   "source": [
    "print('bos=', sp.bos_id())\n",
    "print('eos=', sp.eos_id())\n",
    "print('unk=', sp.unk_id())\n",
    "print('pad=', sp.pad_id())"
   ]
  },
  {
   "cell_type": "code",
   "execution_count": 8,
   "metadata": {},
   "outputs": [],
   "source": [
    "tokenized_formal = np.array([sp.encode_as_ids(line) for line in formal])\n",
    "tokenized_informal = np.array([sp.encode_as_ids(line) for line in informal])"
   ]
  },
  {
   "cell_type": "code",
   "execution_count": 9,
   "metadata": {},
   "outputs": [
    {
     "name": "stdout",
     "output_type": "stream",
     "text": [
      "i prefer to let the guy ask me.\n"
     ]
    }
   ],
   "source": [
    "print(sp.decode_ids(tokenized_formal[0]))"
   ]
  },
  {
   "cell_type": "markdown",
   "metadata": {},
   "source": [
    "# Figuring out where to cut sentence lenghts"
   ]
  },
  {
   "cell_type": "code",
   "execution_count": 10,
   "metadata": {},
   "outputs": [
    {
     "name": "stdout",
     "output_type": "stream",
     "text": [
      "Longest formal sequence: 56\n",
      "Longest informal sequence: 45\n"
     ]
    }
   ],
   "source": [
    "tokenized_lens_formal = np.array([len(element) for element in tokenized_formal])\n",
    "tokenized_lens_informal = np.array([len(element) for element in tokenized_informal])\n",
    "print(f\"Longest formal sequence: {tokenized_lens_formal.max()}\")\n",
    "print(f\"Longest informal sequence: {tokenized_lens_informal.max()}\")"
   ]
  },
  {
   "cell_type": "code",
   "execution_count": 11,
   "metadata": {},
   "outputs": [
    {
     "data": {
      "image/png": "[encoded data removed]",
      "text/plain": [
       "<Figure size 432x288 with 1 Axes>"
      ]
     },
     "metadata": {
      "needs_background": "light"
     },
     "output_type": "display_data"
    },
    {
     "data": {
      "image/png": "[encoded data removed]",
      "text/plain": [
       "<Figure size 432x288 with 1 Axes>"
      ]
     },
     "metadata": {
      "needs_background": "light"
     },
     "output_type": "display_data"
    }
   ],
   "source": [
    "# Plot histogram\n",
    "\n",
    "import matplotlib.pyplot as plt\n",
    "\n",
    "pd.Series(tokenized_lens_formal).plot(kind='hist', bins=100)\n",
    "plt.title('Sentence length for formal data')\n",
    "plt.xlabel('Length')\n",
    "plt.show()\n",
    "pd.Series(tokenized_lens_informal).plot(kind='hist', bins=100)\n",
    "plt.title('Sentence length for informal data')\n",
    "plt.xlabel('Length')\n",
    "plt.show()"
   ]
  },
  {
   "cell_type": "markdown",
   "metadata": {},
   "source": [
    "# Cutting sentences to set length"
   ]
  },
  {
   "cell_type": "code",
   "execution_count": 12,
   "metadata": {},
   "outputs": [],
   "source": [
    "sub_tokenized_formal = tokenized_formal[((tokenized_lens_formal <= 30) & (tokenized_lens_informal <= 30))]\n",
    "sub_tokenized_informal = tokenized_informal[((tokenized_lens_formal <= 30) & (tokenized_lens_informal <= 30))]\n",
    "sub_formal = np.array(formal)[((tokenized_lens_formal <= 30) & (tokenized_lens_informal <= 30))]\n",
    "sub_informal = np.array(informal)[((tokenized_lens_formal <= 30) & (tokenized_lens_informal <= 30))]"
   ]
  },
  {
   "cell_type": "code",
   "execution_count": 13,
   "metadata": {},
   "outputs": [
    {
     "data": {
      "text/plain": [
       "51514"
      ]
     },
     "execution_count": 13,
     "metadata": {},
     "output_type": "execute_result"
    }
   ],
   "source": [
    "sub_tokenized_formal.size"
   ]
  },
  {
   "cell_type": "code",
   "execution_count": 14,
   "metadata": {},
   "outputs": [
    {
     "data": {
      "text/plain": [
       "51514"
      ]
     },
     "execution_count": 14,
     "metadata": {},
     "output_type": "execute_result"
    }
   ],
   "source": [
    "sub_tokenized_informal.size"
   ]
  },
  {
   "cell_type": "code",
   "execution_count": 15,
   "metadata": {},
   "outputs": [
    {
     "data": {
      "text/html": [
       "<div>\n",
       "<style scoped>\n",
       "    .dataframe tbody tr th:only-of-type {\n",
       "        vertical-align: middle;\n",
       "    }\n",
       "\n",
       "    .dataframe tbody tr th {\n",
       "        vertical-align: top;\n",
       "    }\n",
       "\n",
       "    .dataframe thead th {\n",
       "        text-align: right;\n",
       "    }\n",
       "</style>\n",
       "<table border=\"1\" class=\"dataframe\">\n",
       "  <thead>\n",
       "    <tr style=\"text-align: right;\">\n",
       "      <th></th>\n",
       "      <th>Formal</th>\n",
       "      <th>Informal</th>\n",
       "    </tr>\n",
       "  </thead>\n",
       "  <tbody>\n",
       "    <tr>\n",
       "      <td>0</td>\n",
       "      <td>I prefer to let the guy ask me.</td>\n",
       "      <td>Sure, it's ok, but I always have let the guy a...</td>\n",
       "    </tr>\n",
       "    <tr>\n",
       "      <td>1</td>\n",
       "      <td>I suffer through verbal abuse from my wife.</td>\n",
       "      <td>Hmmm, I'm a guy suffering from verbal abuse fr...</td>\n",
       "    </tr>\n",
       "    <tr>\n",
       "      <td>2</td>\n",
       "      <td>You will have more friends than you want.</td>\n",
       "      <td>You will have more friends that you want... ;)</td>\n",
       "    </tr>\n",
       "    <tr>\n",
       "      <td>3</td>\n",
       "      <td>It's nice that you get to see pictures of who ...</td>\n",
       "      <td>It's nice, you get to see pictures of who you ...</td>\n",
       "    </tr>\n",
       "    <tr>\n",
       "      <td>4</td>\n",
       "      <td>I need to know what to do.</td>\n",
       "      <td>I NEED TO KNOW WHAT 2 DO</td>\n",
       "    </tr>\n",
       "    <tr>\n",
       "      <td>...</td>\n",
       "      <td>...</td>\n",
       "      <td>...</td>\n",
       "    </tr>\n",
       "    <tr>\n",
       "      <td>51509</td>\n",
       "      <td>Of course, it depends on what type of relation...</td>\n",
       "      <td>of corse it depends on what relation u r looki...</td>\n",
       "    </tr>\n",
       "    <tr>\n",
       "      <td>51510</td>\n",
       "      <td>Wear a sign that say \"Hi!\"</td>\n",
       "      <td>Wear a sign that says Hi!</td>\n",
       "    </tr>\n",
       "    <tr>\n",
       "      <td>51511</td>\n",
       "      <td>I do not like when guys play games with me.</td>\n",
       "      <td>I don't believe in playing games, I hate when ...</td>\n",
       "    </tr>\n",
       "    <tr>\n",
       "      <td>51512</td>\n",
       "      <td>How old are you?</td>\n",
       "      <td>(or w/e)   p.s gurl how old r u ?</td>\n",
       "    </tr>\n",
       "    <tr>\n",
       "      <td>51513</td>\n",
       "      <td>If you watch her, you might be able to learn w...</td>\n",
       "      <td>Try to watch her to see what kind of things sh...</td>\n",
       "    </tr>\n",
       "  </tbody>\n",
       "</table>\n",
       "<p>51514 rows × 2 columns</p>\n",
       "</div>"
      ],
      "text/plain": [
       "                                                  Formal  \\\n",
       "0                        I prefer to let the guy ask me.   \n",
       "1            I suffer through verbal abuse from my wife.   \n",
       "2              You will have more friends than you want.   \n",
       "3      It's nice that you get to see pictures of who ...   \n",
       "4                             I need to know what to do.   \n",
       "...                                                  ...   \n",
       "51509  Of course, it depends on what type of relation...   \n",
       "51510                         Wear a sign that say \"Hi!\"   \n",
       "51511        I do not like when guys play games with me.   \n",
       "51512                                   How old are you?   \n",
       "51513  If you watch her, you might be able to learn w...   \n",
       "\n",
       "                                                Informal  \n",
       "0      Sure, it's ok, but I always have let the guy a...  \n",
       "1      Hmmm, I'm a guy suffering from verbal abuse fr...  \n",
       "2         You will have more friends that you want... ;)  \n",
       "3      It's nice, you get to see pictures of who you ...  \n",
       "4                               I NEED TO KNOW WHAT 2 DO  \n",
       "...                                                  ...  \n",
       "51509  of corse it depends on what relation u r looki...  \n",
       "51510                          Wear a sign that says Hi!  \n",
       "51511  I don't believe in playing games, I hate when ...  \n",
       "51512                  (or w/e)   p.s gurl how old r u ?  \n",
       "51513  Try to watch her to see what kind of things sh...  \n",
       "\n",
       "[51514 rows x 2 columns]"
      ]
     },
     "execution_count": 15,
     "metadata": {},
     "output_type": "execute_result"
    }
   ],
   "source": [
    "train_df = pd.DataFrame({'Formal': sub_formal, 'Informal': sub_informal})\n",
    "train_df"
   ]
  },
  {
   "cell_type": "code",
   "execution_count": 16,
   "metadata": {},
   "outputs": [
    {
     "name": "stdout",
     "output_type": "stream",
     "text": [
      "Longest formal sequence: 30\n",
      "Longest informal sequence: 30\n"
     ]
    },
    {
     "data": {
      "image/png": "[encoded data removed]",
      "text/plain": [
       "<Figure size 432x288 with 1 Axes>"
      ]
     },
     "metadata": {
      "needs_background": "light"
     },
     "output_type": "display_data"
    },
    {
     "data": {
      "image/png": "[encoded data removed]",
      "text/plain": [
       "<Figure size 432x288 with 1 Axes>"
      ]
     },
     "metadata": {
      "needs_background": "light"
     },
     "output_type": "display_data"
    }
   ],
   "source": [
    "# Plot histogram\n",
    "sub_tokenized_lens_formal = np.array([len(element) for element in sub_tokenized_formal])\n",
    "sub_tokenized_lens_informal = np.array([len(element) for element in sub_tokenized_informal])\n",
    "print(f\"Longest formal sequence: {sub_tokenized_lens_formal.max()}\")\n",
    "print(f\"Longest informal sequence: {sub_tokenized_lens_informal.max()}\")\n",
    "\n",
    "pd.Series(sub_tokenized_lens_formal).plot(kind='hist', bins=100)\n",
    "plt.title('Sentence length for formal data')\n",
    "plt.xlabel('Length')\n",
    "plt.show()\n",
    "pd.Series(sub_tokenized_lens_informal).plot(kind='hist', bins=100)\n",
    "plt.title('Sentence length for informal data')\n",
    "plt.xlabel('Length')\n",
    "plt.show()"
   ]
  },
  {
   "cell_type": "markdown",
   "metadata": {},
   "source": [
    "# Padding sentences to same lenghts"
   ]
  },
  {
   "cell_type": "code",
   "execution_count": 19,
   "metadata": {},
   "outputs": [],
   "source": [
    "def pad_token_array(array, padded_len):\n",
    "    len_array = len(array)\n",
    "    padding = (padded_len - len_array) * [0]\n",
    "    return array + padding"
   ]
  },
  {
   "cell_type": "code",
   "execution_count": 22,
   "metadata": {},
   "outputs": [
    {
     "data": {
      "text/plain": [
       "array([list([7, 669, 8, 132, 13, 61, 72, 42, 4]),\n",
       "       list([7, 2380, 597, 5670, 1566, 149, 49, 234, 4]),\n",
       "       list([5, 63, 32, 105, 101, 166, 5, 56, 4]), ...,\n",
       "       list([7, 34, 24, 23, 76, 73, 394, 777, 25, 42, 4]),\n",
       "       list([77, 212, 35, 5, 37]),\n",
       "       list([16, 5, 447, 28, 6, 5, 182, 27, 10, 906, 8, 430, 43, 41, 187, 8, 34, 4])],\n",
       "      dtype=object)"
      ]
     },
     "execution_count": 22,
     "metadata": {},
     "output_type": "execute_result"
    }
   ],
   "source": [
    "sub_tokenized_formal"
   ]
  },
  {
   "cell_type": "code",
   "execution_count": 30,
   "metadata": {},
   "outputs": [],
   "source": [
    "padded_sub_tokenized_formal = [pad_token_array(element, 30) for element in sub_tokenized_formal]\n",
    "padded_sub_tokenized_informal = [pad_token_array(element, 30) for element in sub_tokenized_informal]"
   ]
  },
  {
   "cell_type": "code",
   "execution_count": 31,
   "metadata": {},
   "outputs": [],
   "source": [
    "for x in padded_sub_tokenized_formal:\n",
    "    assert len(x) == 30\n",
    "    \n",
    "for x in padded_sub_tokenized_informal:\n",
    "    assert len(x) == 30"
   ]
  },
  {
   "cell_type": "code",
   "execution_count": 32,
   "metadata": {},
   "outputs": [],
   "source": [
    "padded_training_data = padded_sub_tokenized_formal"
   ]
  },
  {
   "cell_type": "markdown",
   "metadata": {},
   "source": [
    "# Model"
   ]
  },
  {
   "cell_type": "code",
   "execution_count": 33,
   "metadata": {},
   "outputs": [],
   "source": [
    "import torch\n",
    "import torch.nn as nn"
   ]
  },
  {
   "cell_type": "code",
   "execution_count": 24,
   "metadata": {},
   "outputs": [],
   "source": [
    "class RNN_VAE(nn.Module):\n",
    "    def __init__(self, embedding_dim, hidden_dim, latent_dim,vocab_size):\n",
    "        super().__init__()\n",
    "        self.hidden_dim = hidden_dim\n",
    "        \n",
    "        self.word_embeddings = nn.Embedding(vocab_size, embedding_size)\n",
    "        \n",
    "        self.encoder_lstm = nn.LSTM(embedding_dim, hidden_dim)\n",
    "        self.decoder_lstm = nn.LSTM(embedding_dim, hidden_dim)\n",
    "        \n",
    "        self.linear_mu = nn.Linear(hidden_dim, latent_dim)\n",
    "        self.linear_sigma = nn.Linear(hidden_dim, latent_dim)\n",
    "    \n",
    "    \n",
    "    def encode(self, sentence):\n",
    "        embeds = self.word_embeddings(sentence)\n",
    "        _, hidden_state = self.encoder_lstm(embeds.view(len(sentence), 1, -1))\n",
    "        mu = self.linear_mu(hidden_state)\n",
    "        sigma = self.linear_sigma(hidden_state)\n",
    "        return \n",
    "    \n",
    "    def reparameterize(self, mu, logvar): # Why do we use logvar? computational stability?\n",
    "        sigma = torch.exp(logvar/2)\n",
    "        eps = torch.rand_like(sigma)\n",
    "        return mu + eps*sigma\n",
    "    \n",
    "    def decode(self, z, sentence):\n",
    "        \n",
    "        return\n",
    "        \n",
    "    def forward(self, sentence):\n",
    "        mu, logvar = self.encode(x)\n",
    "        z = self.reparameterize(mu, logvar)\n",
    "        return self.decode(z), mu, logvar"
   ]
  }
 ],
 "metadata": {
  "kernelspec": {
   "display_name": "Python 3",
   "language": "python",
   "name": "python3"
  },
  "language_info": {
   "codemirror_mode": {
    "name": "ipython",
    "version": 3
   },
   "file_extension": ".py",
   "mimetype": "text/x-python",
   "name": "python",
   "nbconvert_exporter": "python",
   "pygments_lexer": "ipython3",
   "version": "3.6.8"
  }
 },
 "nbformat": 4,
 "nbformat_minor": 2
}
