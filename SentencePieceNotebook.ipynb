{
 "cells": [
  {
   "cell_type": "markdown",
   "metadata": {},
   "source": [
    "# Generate SentencePeice models"
   ]
  },
  {
   "cell_type": "code",
   "execution_count": 1,
   "metadata": {},
   "outputs": [],
   "source": [
    "import sentencepiece as spm\n",
    "import os\n"
   ]
  },
  {
   "cell_type": "markdown",
   "metadata": {},
   "source": [
    "## Define paths"
   ]
  },
  {
   "cell_type": "code",
   "execution_count": 2,
   "metadata": {},
   "outputs": [],
   "source": [
    "root = os.getcwd()\n",
    "FR_informal_path = os.path.join(root,'GYAFC_Corpus','Family_Relationships','train','informal')\n",
    "FR_formal_path = os.path.join(root,'GYAFC_Corpus','Family_Relationships','train','formal')\n",
    "FR_test_raw_informal_path = os.path.join(root,'GYAFC_Corpus','Family_Relationships','test','informal')\n",
    "FR_test_raw_formal_path = os.path.join(root,'GYAFC_Corpus','Family_Relationships','test','formal')\n",
    "FR_test_ref0_formal_path = os.path.join(root,'GYAFC_Corpus','Family_Relationships','test','formal.ref0')\n",
    "FR_test_ref0_informal_path = os.path.join(root,'GYAFC_Corpus','Family_Relationships','test','informal.ref0')\n",
    "\n",
    "EM_informal_path = os.path.join(root,'GYAFC_Corpus','Entertainment_Music','train','informal')\n",
    "EM_formal_path = os.path.join(root,'GYAFC_Corpus','Entertainment_Music','train','formal')\n",
    "EM_test_raw_informal_path = os.path.join(root,'GYAFC_Corpus','Entertainment_Music','test','informal')\n",
    "EM_test_raw_formal_path = os.path.join(root,'GYAFC_Corpus','Entertainment_Music','test','formal')\n",
    "EM_test_ref0_informal_path = os.path.join(root,'GYAFC_Corpus','Entertainment_Music','test','informal.ref0')\n",
    "EM_test_ref0_formal_path = os.path.join(root,'GYAFC_Corpus','Entertainment_Music','test','formal.ref0')"
   ]
  },
  {
   "cell_type": "markdown",
   "metadata": {},
   "source": [
    "## Make small model"
   ]
  },
  {
   "cell_type": "code",
   "execution_count": 3,
   "metadata": {},
   "outputs": [
    {
     "data": {
      "text/plain": [
       "True"
      ]
     },
     "execution_count": 3,
     "metadata": {},
     "output_type": "execute_result"
    }
   ],
   "source": [
    "VOCAB_SIZE_small = 16000\n",
    "model_name_small = f\"FRtraintest{VOCAB_SIZE_small}\"\n",
    "sp_train_args_small = f\"--input={FR_informal_path},{FR_formal_path},{FR_test_raw_informal_path},{FR_test_raw_formal_path},{FR_test_ref0_informal_path},{FR_test_ref0_formal_path} --model_prefix={model_name_small} --vocab_size={VOCAB_SIZE_small} --pad_id=0 --unk_id=1 --bos_id=2 --eos_id=3 --pad_piece=[PAD] --unk_piece=[UNK] --bos_piece=[BOS] --eos_piece=[EOS], --normalization_rule_name=nfkc_cf\"\n",
    "\n",
    "spm.SentencePieceTrainer.train(sp_train_args_small)\n",
    "sp = spm.SentencePieceProcessor()\n",
    "sp.Load(model_name_small + '.model')"
   ]
  },
  {
   "cell_type": "code",
   "execution_count": 4,
   "metadata": {},
   "outputs": [
    {
     "name": "stdout",
     "output_type": "stream",
     "text": [
      "bos= 2\n",
      "eos= 3\n",
      "unk= 1\n",
      "pad= 0\n"
     ]
    }
   ],
   "source": [
    "print('bos=', sp.bos_id())\n",
    "print('eos=', sp.eos_id())\n",
    "print('unk=', sp.unk_id())\n",
    "print('pad=', sp.pad_id())"
   ]
  },
  {
   "cell_type": "markdown",
   "metadata": {},
   "source": [
    "## Make large model"
   ]
  },
  {
   "cell_type": "code",
   "execution_count": 5,
   "metadata": {},
   "outputs": [
    {
     "data": {
      "text/plain": [
       "True"
      ]
     },
     "execution_count": 5,
     "metadata": {},
     "output_type": "execute_result"
    }
   ],
   "source": [
    "VOCAB_SIZE_large = 32000\n",
    "model_name_large = f\"fulltraintest{VOCAB_SIZE_large}\"\n",
    "sp_train_args_large = f\"--input={FR_informal_path},{FR_formal_path},{FR_test_raw_informal_path},{FR_test_raw_formal_path},{FR_test_ref0_informal_path},{FR_test_ref0_formal_path},{EM_informal_path},{EM_formal_path},{EM_test_raw_informal_path},{EM_test_raw_formal_path},{EM_test_ref0_informal_path},{EM_test_ref0_formal_path} --model_prefix={model_name_large} --vocab_size={VOCAB_SIZE_large} --pad_id=0 --unk_id=1 --bos_id=2 --eos_id=3 --pad_piece=[PAD] --unk_piece=[UNK] --bos_piece=[BOS] --eos_piece=[EOS], --normalization_rule_name=nfkc_cf\"\n",
    "\n",
    "spm.SentencePieceTrainer.train(sp_train_args_large)\n",
    "sp = spm.SentencePieceProcessor()\n",
    "sp.Load(model_name_large + '.model')"
   ]
  },
  {
   "cell_type": "code",
   "execution_count": 6,
   "metadata": {},
   "outputs": [
    {
     "name": "stdout",
     "output_type": "stream",
     "text": [
      "bos= 2\n",
      "eos= 3\n",
      "unk= 1\n",
      "pad= 0\n"
     ]
    }
   ],
   "source": [
    "print('bos=', sp.bos_id())\n",
    "print('eos=', sp.eos_id())\n",
    "print('unk=', sp.unk_id())\n",
    "print('pad=', sp.pad_id())"
   ]
  },
  {
   "cell_type": "code",
   "execution_count": null,
   "metadata": {},
   "outputs": [],
   "source": []
  }
 ],
 "metadata": {
  "kernelspec": {
   "display_name": "Python 3",
   "language": "python",
   "name": "python3"
  },
  "language_info": {
   "codemirror_mode": {
    "name": "ipython",
    "version": 3
   },
   "file_extension": ".py",
   "mimetype": "text/x-python",
   "name": "python",
   "nbconvert_exporter": "python",
   "pygments_lexer": "ipython3",
   "version": "3.6.9"
  }
 },
 "nbformat": 4,
 "nbformat_minor": 2
}
