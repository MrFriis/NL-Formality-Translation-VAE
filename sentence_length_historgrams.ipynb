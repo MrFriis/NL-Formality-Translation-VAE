{
 "cells": [
  {
   "cell_type": "markdown",
   "metadata": {},
   "source": [
    "## GYAFC Dataset Investigate\n"
   ]
  },
  {
   "cell_type": "markdown",
   "metadata": {},
   "source": [
    "### Import Data"
   ]
  },
  {
   "cell_type": "code",
   "execution_count": 1,
   "metadata": {},
   "outputs": [],
   "source": [
    "import pandas as pd\n",
    "import os\n",
    "import spacy"
   ]
  },
  {
   "cell_type": "code",
   "execution_count": 2,
   "metadata": {},
   "outputs": [
    {
     "data": {
      "text/html": [
       "<div>\n",
       "<style scoped>\n",
       "    .dataframe tbody tr th:only-of-type {\n",
       "        vertical-align: middle;\n",
       "    }\n",
       "\n",
       "    .dataframe tbody tr th {\n",
       "        vertical-align: top;\n",
       "    }\n",
       "\n",
       "    .dataframe thead th {\n",
       "        text-align: right;\n",
       "    }\n",
       "</style>\n",
       "<table border=\"1\" class=\"dataframe\">\n",
       "  <thead>\n",
       "    <tr style=\"text-align: right;\">\n",
       "      <th></th>\n",
       "      <th>Formal</th>\n",
       "      <th>Informal</th>\n",
       "    </tr>\n",
       "  </thead>\n",
       "  <tbody>\n",
       "    <tr>\n",
       "      <td>0</td>\n",
       "      <td>I prefer to let the guy ask me.</td>\n",
       "      <td>Sure, it's ok, but I always have let the guy a...</td>\n",
       "    </tr>\n",
       "    <tr>\n",
       "      <td>1</td>\n",
       "      <td>I suffer through verbal abuse from my wife.</td>\n",
       "      <td>Hmmm, I'm a guy suffering from verbal abuse fr...</td>\n",
       "    </tr>\n",
       "    <tr>\n",
       "      <td>2</td>\n",
       "      <td>You will have more friends than you want.</td>\n",
       "      <td>You will have more friends that you want... ;)</td>\n",
       "    </tr>\n",
       "    <tr>\n",
       "      <td>3</td>\n",
       "      <td>It's nice that you get to see pictures of who ...</td>\n",
       "      <td>It's nice, you get to see pictures of who you ...</td>\n",
       "    </tr>\n",
       "    <tr>\n",
       "      <td>4</td>\n",
       "      <td>I need to know what to do.</td>\n",
       "      <td>I NEED TO KNOW WHAT 2 DO</td>\n",
       "    </tr>\n",
       "    <tr>\n",
       "      <td>...</td>\n",
       "      <td>...</td>\n",
       "      <td>...</td>\n",
       "    </tr>\n",
       "    <tr>\n",
       "      <td>51962</td>\n",
       "      <td>Of course, it depends on what type of relation...</td>\n",
       "      <td>of corse it depends on what relation u r looki...</td>\n",
       "    </tr>\n",
       "    <tr>\n",
       "      <td>51963</td>\n",
       "      <td>Wear a sign that say \"Hi!\"</td>\n",
       "      <td>Wear a sign that says Hi!</td>\n",
       "    </tr>\n",
       "    <tr>\n",
       "      <td>51964</td>\n",
       "      <td>I do not like when guys play games with me.</td>\n",
       "      <td>I don't believe in playing games, I hate when ...</td>\n",
       "    </tr>\n",
       "    <tr>\n",
       "      <td>51965</td>\n",
       "      <td>How old are you?</td>\n",
       "      <td>(or w/e)   p.s gurl how old r u ?</td>\n",
       "    </tr>\n",
       "    <tr>\n",
       "      <td>51966</td>\n",
       "      <td>If you watch her, you might be able to learn w...</td>\n",
       "      <td>Try to watch her to see what kind of things sh...</td>\n",
       "    </tr>\n",
       "  </tbody>\n",
       "</table>\n",
       "<p>51967 rows × 2 columns</p>\n",
       "</div>"
      ],
      "text/plain": [
       "                                                  Formal  \\\n",
       "0                        I prefer to let the guy ask me.   \n",
       "1            I suffer through verbal abuse from my wife.   \n",
       "2              You will have more friends than you want.   \n",
       "3      It's nice that you get to see pictures of who ...   \n",
       "4                             I need to know what to do.   \n",
       "...                                                  ...   \n",
       "51962  Of course, it depends on what type of relation...   \n",
       "51963                         Wear a sign that say \"Hi!\"   \n",
       "51964        I do not like when guys play games with me.   \n",
       "51965                                   How old are you?   \n",
       "51966  If you watch her, you might be able to learn w...   \n",
       "\n",
       "                                                Informal  \n",
       "0      Sure, it's ok, but I always have let the guy a...  \n",
       "1      Hmmm, I'm a guy suffering from verbal abuse fr...  \n",
       "2         You will have more friends that you want... ;)  \n",
       "3      It's nice, you get to see pictures of who you ...  \n",
       "4                               I NEED TO KNOW WHAT 2 DO  \n",
       "...                                                  ...  \n",
       "51962  of corse it depends on what relation u r looki...  \n",
       "51963                          Wear a sign that says Hi!  \n",
       "51964  I don't believe in playing games, I hate when ...  \n",
       "51965                  (or w/e)   p.s gurl how old r u ?  \n",
       "51966  Try to watch her to see what kind of things sh...  \n",
       "\n",
       "[51967 rows x 2 columns]"
      ]
     },
     "execution_count": 2,
     "metadata": {},
     "output_type": "execute_result"
    }
   ],
   "source": [
    "#Import formal and informal \n",
    "\n",
    "root = os.getcwd()\n",
    "formal_train_path = os.path.join(root, 'GYAFC_corpus', 'Family_Relationships','train', 'formal')\n",
    "informal_train_path = os.path.join(root, 'GYAFC_corpus', 'Family_Relationships','train', 'informal')\n",
    "\n",
    "with open(formal_train_path, encoding='utf-8') as f:\n",
    "    formal = [line.rstrip() for line in f]\n",
    "\n",
    "with open(informal_train_path, encoding='utf-8') as f:\n",
    "    informal = [line.rstrip() for line in f]\n",
    "\n",
    "df = pd.DataFrame.from_dict({'Formal' : formal, 'Informal' : informal})\n",
    "df"
   ]
  },
  {
   "cell_type": "markdown",
   "metadata": {},
   "source": [
    "### Tokenize\n",
    "\n",
    "[Token introduction](https://pytorch.org/tutorials/beginner/torchtext_translation_tutorial.html?fbclid=IwAR3GPu0FCDHvpfKm80MYIZPJGVX2EHY6mYbog6qQZiAqG1eYwaWLJxZFzAE)"
   ]
  },
  {
   "cell_type": "code",
   "execution_count": 3,
   "metadata": {},
   "outputs": [],
   "source": [
    "#Tokenization\n",
    "\n",
    "#spm.SentencePieceTrainer.train('--input= ' + informalPath + ' --model_prefix=m --vocab_size=2000')"
   ]
  },
  {
   "cell_type": "code",
   "execution_count": 4,
   "metadata": {},
   "outputs": [],
   "source": [
    "# Finde sentece lengths\n",
    "\n",
    "formalLengths = [len(sentence.split()) for sentence in formal]\n",
    "informalLengths = [len(sentence.split()) for sentence in informal]"
   ]
  },
  {
   "cell_type": "code",
   "execution_count": 6,
   "metadata": {},
   "outputs": [
    {
     "data": {
      "image/png": "[encoded data removed]",
      "text/plain": [
       "<Figure size 432x288 with 1 Axes>"
      ]
     },
     "metadata": {
      "needs_background": "light"
     },
     "output_type": "display_data"
    },
    {
     "data": {
      "image/png": "[encoded data removed]",
      "text/plain": [
       "<Figure size 432x288 with 1 Axes>"
      ]
     },
     "metadata": {
      "needs_background": "light"
     },
     "output_type": "display_data"
    }
   ],
   "source": [
    "# Plot histogram\n",
    "\n",
    "import matplotlib.pyplot as plt\n",
    "\n",
    "pd.Series(formalLengths).plot(kind='hist', bins=100)\n",
    "plt.title('Sentence length for formal data')\n",
    "plt.xlabel('Length')\n",
    "plt.show()\n",
    "pd.Series(informalLengths).plot(kind='hist', bins=100)\n",
    "plt.title('Sentence length for informal data')\n",
    "plt.xlabel('Length')\n",
    "plt.show()"
   ]
  },
  {
   "cell_type": "markdown",
   "metadata": {},
   "source": [
    "Suggest remove sentences : len(sentences) > 20"
   ]
  },
  {
   "cell_type": "code",
   "execution_count": null,
   "metadata": {},
   "outputs": [],
   "source": []
  }
 ],
 "metadata": {
  "kernelspec": {
   "display_name": "Python 3",
   "language": "python",
   "name": "python3"
  },
  "language_info": {
   "codemirror_mode": {
    "name": "ipython",
    "version": 3
   },
   "file_extension": ".py",
   "mimetype": "text/x-python",
   "name": "python",
   "nbconvert_exporter": "python",
   "pygments_lexer": "ipython3",
   "version": "3.7.4"
  }
 },
 "nbformat": 4,
 "nbformat_minor": 2
}
